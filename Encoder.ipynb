<<<<<<< HEAD
{"nbformat":4,"nbformat_minor":0,"metadata":{"colab":{"name":"Encoder.ipynb","provenance":[],"collapsed_sections":[],"toc_visible":true,"authorship_tag":"ABX9TyNY3PlEWFffoGDArfK5cZk1"},"kernelspec":{"name":"python3","display_name":"Python 3"},"language_info":{"name":"python"}},"cells":[{"cell_type":"code","metadata":{"id":"OZEazTcSsSw_"},"source":["import RPi.GPIO as IO\n","import time\n","\n","Motor1E = 2\n","Motor1A = 3\n","Motor1B = 4\n","encPin1A = 17\n","encPin1B = 27\n","\n","Motor2E = 22\n","Motor2A = 10\n","Motor2B = 9\n","encPin2A = 11\n","encPin2B = 5\n","\n","Motor3E = 19\n","Motor3A = 6\n","Motor3B = 13\n","encPin3A = 26\n","encPin3B = 18\n","\n","Motor4E = 25\n","Motor4A = 23\n","Motor4B = 24\n","encPin4A = 8\n","encPin4B = 7\n","\n","########################################################## Pin assign\n","IO.setmode(IO.BCM)\n","IO.setwarnings(False)\n","\n","IO.setup(encPin1A, IO.IN, pull_up_down=IO.PUD_UP)\n","IO.setup(encPin1B, IO.IN, pull_up_down=IO.PUD_UP)\n","\n","IO.setup(encPin2A, IO.IN, pull_up_down=IO.PUD_UP)\n","IO.setup(encPin2B, IO.IN, pull_up_down=IO.PUD_UP)\n","\n","IO.setup(encPin3A, IO.IN, pull_up_down=IO.PUD_UP)\n","IO.setup(encPin3B, IO.IN, pull_up_down=IO.PUD_UP)\n","\n","IO.setup(encPin4A, IO.IN, pull_up_down=IO.PUD_UP)\n","IO.setup(encPin4B, IO.IN, pull_up_down=IO.PUD_UP)\n","\n","\n","IO.setup(Motor1A, IO.OUT)\n","IO.setup(Motor1B, IO.OUT)\n","IO.setup(Motor1E, IO.OUT)\n","\n","IO.setup(Motor2A, IO.OUT)\n","IO.setup(Motor2B, IO.OUT)\n","IO.setup(Motor2E, IO.OUT)\n","\n","IO.setup(Motor3A, IO.OUT)\n","IO.setup(Motor3B, IO.OUT)\n","IO.setup(Motor3E, IO.OUT)\n","\n","IO.setup(Motor4A, IO.OUT)\n","IO.setup(Motor4B, IO.OUT)\n","IO.setup(Motor4E, IO.OUT)\n","\n","#################################################### setting\n","\n","PWM1 = IO.PWM(Motor1E, 100)\n","PWM1.start(0)\n","\n","PWM2 = IO.PWM(Motor2E, 100)\n","PWM2.start(0)\n","\n","PWM3 = IO.PWM(Motor3E, 100)\n","PWM3.start(0)\n","\n","PWM4 = IO.PWM(Motor4E, 100)\n","PWM4.start(0)\n","\n","####################################################### PWM setting\n","\n","encoderPos1 = 0\n","encoderPos2 = 0\n","encoderPos3 = 0\n","encoderPos4 = 0\n","\n","def encoder1A(channel):\n","    global encoderPos1\n","    if IO.input(encPin1A) == IO.input(encPin1B):\n","        encoderPos1 += 1\n","    else:\n","        encoderPos1 -= 1\n","\n","\n","def encoder1B(channel):\n","    global encoderPos1\n","    if IO.input(encPin1A) == IO.input(encPin1B):\n","        encoderPos1 -= 1\n","    else:\n","        encoderPos1 += 1\n","\n","\n","IO.add_event_detect(encPin1A, IO.BOTH, callback=encoderA)\n","IO.add_event_detect(encPin1B, IO.BOTH, callback=encoderB)\n","\n","\n","\n","\n","\n","ratio = 360. / 270. / 64.\n","targetDeg = encoderPos * ratio\n","Kp = 5.\n","Kd = 3.\n","Ki = 3.\n","dt = 0.\n","dt_sleep = 0.01\n","tolerance = 0.01\n","\n","\n","start_time = time.time()\n","error_prev = 0.\n","time_prev = 0.\n","\n","while True:\n","    motorDeg = encoderPos * ratio\n","\n","    error = targetDeg - motorDeg\n","    de = error - error_prev\n","    dt = time.time() - time_prev\n","    control = Kp * error + Kd * de / dt + Ki * error * dt;\n","\n","    error_prev = error\n","    time_prev = time.time()\n","\n","    IO.output(Motor1A, control >= 0)\n","    p.ChangeDutyCycle(min(abs(control), 100))\n","    IO.output(Motor1B, control >= 0)\n","    p.ChangeDutyCycle(min(abs(control), 100))\n","\n","    print('P-term = %7.1f, D-term = %7.1f, I-term = %7.1f' % (Kp * error, Kd * de / dt, Ki * de * dt))\n","    print('time = %6.3f, enc = %d, deg = %5.1f, err = %5.1f, ctrl = %7.1f' % (\n","    time.time() - start_time, encoderPos, motorDeg, error, control))\n","    print('%f, %f' % (de, dt))\n","\n","    if abs(error) <= tolerance:\n","        IO.output(dirPin, control >= 0)\n","        p.ChangeDutyCycle(0)\n","        break\n","\n","    time.sleep(dt_sleep)"],"execution_count":null,"outputs":[]}]}
=======
import RPi.GPIO as IO
import time

Motor1E = 2
Motor1A = 3
Motor1B = 4
encPin1A = 17
encPin1B = 27

Motor2E = 22
Motor2A = 10
Motor2B = 9
encPin2A = 11
encPin2B = 5

Motor3E = 19
Motor3A = 6
Motor3B = 13
encPin3A = 26
encPin3B = 18

Motor4E = 25
Motor4A = 23
Motor4B = 24
encPin4A = 8
encPin4B = 7

########################################################## Pin assign
IO.setmode(IO.BCM)
IO.setwarnings(False)

IO.setup(encPin1A, IO.IN, pull_up_down=IO.PUD_UP)
IO.setup(encPin1B, IO.IN, pull_up_down=IO.PUD_UP)

IO.setup(encPin2A, IO.IN, pull_up_down=IO.PUD_UP)
IO.setup(encPin2B, IO.IN, pull_up_down=IO.PUD_UP)

IO.setup(encPin3A, IO.IN, pull_up_down=IO.PUD_UP)
IO.setup(encPin3B, IO.IN, pull_up_down=IO.PUD_UP)

IO.setup(encPin4A, IO.IN, pull_up_down=IO.PUD_UP)
IO.setup(encPin4B, IO.IN, pull_up_down=IO.PUD_UP)


IO.setup(Motor1A, IO.OUT)
IO.setup(Motor1B, IO.OUT)
IO.setup(Motor1E, IO.OUT)

IO.setup(Motor2A, IO.OUT)
IO.setup(Motor2B, IO.OUT)
IO.setup(Motor2E, IO.OUT)

IO.setup(Motor3A, IO.OUT)
IO.setup(Motor3B, IO.OUT)
IO.setup(Motor3E, IO.OUT)

IO.setup(Motor4A, IO.OUT)
IO.setup(Motor4B, IO.OUT)
IO.setup(Motor4E, IO.OUT)

#################################################### setting

PWM1 = IO.PWM(Motor1E, 100)
PWM1.start(0)

PWM2 = IO.PWM(Motor2E, 100)
PWM2.start(0)

PWM3 = IO.PWM(Motor3E, 100)
PWM3.start(0)

PWM4 = IO.PWM(Motor4E, 100)
PWM4.start(0)

####################################################### PWM setting

encoderPos1 = 0
encoderPos2 = 0
encoderPos3 = 0
encoderPos4 = 0

def encoder1A(channel):
    global encoderPos1
    if IO.input(encPin1A) == IO.input(encPin1B):
        encoderPos1 += 1
    else:
        encoderPos1 -= 1


def encoder1B(channel):
    global encoderPos1
    if IO.input(encPin1A) == IO.input(encPin1B):
        encoderPos1 -= 1
    else:
        encoderPos1 += 1


IO.add_event_detect(encPin1A, IO.BOTH, callback=encoderA)
IO.add_event_detect(encPin1B, IO.BOTH, callback=encoderB)





ratio = 360. / 270. / 64.
targetDeg = encoderPos * ratio
Kp = 5.
Kd = 3.
Ki = 3.
dt = 0.
dt_sleep = 0.01
tolerance = 0.01


start_time = time.time()
error_prev = 0.
time_prev = 0.

while True:
    motorDeg = encoderPos * ratio

    error = targetDeg - motorDeg
    de = error - error_prev
    dt = time.time() - time_prev
    control = Kp * error + Kd * de / dt + Ki * error * dt;

    error_prev = error
    time_prev = time.time()

    IO.output(Motor1A, control >= 0)
    p.ChangeDutyCycle(min(abs(control), 100))
    IO.output(Motor1B, control >= 0)
    p.ChangeDutyCycle(min(abs(control), 100))

    print('P-term = %7.1f, D-term = %7.1f, I-term = %7.1f' % (Kp * error, Kd * de / dt, Ki * de * dt))
    print('time = %6.3f, enc = %d, deg = %5.1f, err = %5.1f, ctrl = %7.1f' % (
    time.time() - start_time, encoderPos, motorDeg, error, control))
    print('%f, %f' % (de, dt))

    if abs(error) <= tolerance:
        IO.output(dirPin, control >= 0)
        p.ChangeDutyCycle(0)
        break

    time.sleep(dt_sleep)
>>>>>>> 32a74f60612cde6f0236b4121faffeed2adfe2b8
